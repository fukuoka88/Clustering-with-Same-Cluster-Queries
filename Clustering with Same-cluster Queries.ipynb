{
 "cells": [
  {
   "cell_type": "markdown",
   "metadata": {},
   "source": [
    "## Clustering with Same-Cluster Queries\n",
    "# Introduction\n",
    "Clustering is a method of partitioning data into different clusters where each cluster holds items that have similar attributes to one another. This is oftentime an unsupervised learning algorithm. Same-Cluster queries allows us as humans to step in and make corrections to a model that has already been developed. Our research will be looking at spectral clustering and how accurate it is and how Same-Cluster Queries can help improve the model. The intial research will be done under synthetic data, in order to remove issues with missing data and have values that demonstrated grounded truth. These were produced by three randomly sampled vectors."
   ]
  },
  {
   "cell_type": "code",
   "execution_count": 496,
   "metadata": {},
   "outputs": [],
   "source": [
    "#Packages to import\n",
    "import random\n",
    "import numpy as np\n",
    "from sklearn.cluster import KMeans\n",
    "import matplotlib as plt\n",
    "import seaborn as sns\n",
    "from collections import Counter"
   ]
  },
  {
   "cell_type": "code",
   "execution_count": 527,
   "metadata": {},
   "outputs": [],
   "source": [
    "#Producing synthetic data\n",
    "#Producing 3 synthetic clusters into a random space\n",
    "x = np.random.normal(random.uniform(-1, 1),random.uniform(0.05,0.5),size=(3, 100))\n",
    "x[0]\n",
    "vectors = list()\n",
    "for i in range(len(x)):\n",
    "    if i == 0:\n",
    "        arrays = np.random.normal(x[i],0.1, size=(100,100))\n",
    "        vectors = arrays\n",
    "    else:\n",
    "        arrays = np.random.normal(x[i],0.1, size=(100,100))\n",
    "        vectors = np.concatenate((vectors, arrays))"
   ]
  },
  {
   "cell_type": "code",
   "execution_count": null,
   "metadata": {},
   "outputs": [],
   "source": [
    "def center_calc(vectors):\n",
    "    #initial centroids and the old centroids both initialized\n",
    "    init_means = np.array([vectors[np.random.choice(len(vectors),1)],vectors[np.random.choice(len(vectors),1)],vectors[np.random.choice(len(vectors),1)]])\n",
    "    old_means = np.array([vectors[np.random.choice(len(vectors),1)],vectors[np.random.choice(len(vectors),1)],vectors[np.random.choice(len(vectors),1)]])\n",
    "    acc_list = []\n",
    "    #check if the means are unchanged and are equal\n",
    "    while not (set([tuple(a) for a in init_means]) == set([tuple(a) for a in oldmu])):\n",
    "        oldmu = init_means\n",
    "        # Assign all points in X to clusters\n",
    "        clusters, labels = cluster_points(X, init_means)\n",
    "        \n",
    "        accuracy = 0\n",
    "        used_index = []\n",
    "        #Calculations for accuracy of the labels\n",
    "        for step in steps:\n",
    "            ctr = Counter(labels[step:step+100])\n",
    "            index = max(list(labels[step:step+100]),key=list(labels[step:step+100]).count)\n",
    "            if index in used_index:\n",
    "                index, its_frequency = ctr.most_common(3)[1]\n",
    "                if index in used_index:\n",
    "                    index, its_frequency = ctr.most_common(3)[2]\n",
    "            used_index.append(index)\n",
    "            count = list(labels[step:step+100]).count(index)\n",
    "            print(accuracy)\n",
    "            accuracy = accuracy+count\n",
    "            \n",
    "        acc_list.append(accuracy/300)\n",
    "        \n",
    "        # Reevaluate centers\n",
    "        init_means = reevaluate_centers(oldmu, clusters)\n",
    "    print(acc_list)\n",
    "    return(init_means, clusters,acc_list)\n",
    "mean, cluster,acc_list = center_calc(vectors)\n",
    "labels = np.array(labels)\n",
    "\n",
    "for i in iterations:\n",
    "    accuracy = 0\n",
    "    used_index = []\n",
    "    for step in steps:\n",
    "        ctr = Counter(labels[step:step+100])\n",
    "        index, its_frequency = index, its_frequency = ctr.most_common(3)[0]\n",
    "        if index in used_index:\n",
    "            index, its_frequency = ctr.most_common(3)[1]\n",
    "            if index in used_index:\n",
    "                index, its_frequency = ctr.most_common(3)[2]\n",
    "        used_index.append(index)\n",
    "        count = list(labels[step:step+100]).count(index)\n",
    "        accuracy = accuracy+its_frequency\n",
    "    acc_list.append(accuracy/300)\n",
    "labels"
   ]
  },
  {
   "cell_type": "code",
   "execution_count": 403,
   "metadata": {},
   "outputs": [],
   "source": [
    "#clustering function\n",
    "\n",
    "def cluster_points(vectors, means):\n",
    "    clusters  = {}\n",
    "    labels = []\n",
    "    for vec in vectors:\n",
    "        best_means = min([(i[0], np.linalg.norm(vec-means[i[0]])) \\\n",
    "                    for i in enumerate(means)], key=lambda t:t[1])[0]\n",
    "        if best_means not in clusters:\n",
    "            clusters[best_means] = [vec]\n",
    "            labels.append(best_means)\n",
    "        else: \n",
    "            clusters[best_means].append(vec)\n",
    "            labels.append(best_means)\n",
    "    return clusters, labels\n",
    "\n",
    "#Find new means\n",
    "def center_recalc(means, clusters):\n",
    "    new_means = []\n",
    "    keys = sorted(clusters.keys())\n",
    "    for k in keys:\n",
    "        new_means.append(np.mean(clusters[k], axis = 0))\n",
    "    return new_means\n"
   ]
  },
  {
   "cell_type": "markdown",
   "metadata": {},
   "source": [
    "## Modeling\n",
    "The Lloyd's algorithm was used to estimate the clustering of this synthetic data. This is suitable for this generated data specifically because Lloyd's algorithm works well under data that is uniform and evenly spaced out. This is an iterative process and therefore, a line graph is demonstrated below to demonstrate the accuracy of the model as the iterations continued. Experimenting with this synthetic data, it was a noticeable observation that there would be a decrease in the slope as the accuracy get closer to a hundred percent accurate. One thing that needs to be considered when looking at this data is how I aligned ground truth values with the labels presented. The main idea was to use the most common value of the first 100 labels and to assign it a '0' and then look at the second 100 labels with the remaining two labels looking for the second most common value. This worked relatively well, but perhaps with larger clusters and larger datasets we could run into some trouble misassigning clusters to other values."
   ]
  },
  {
   "cell_type": "code",
   "execution_count": 227,
   "metadata": {},
   "outputs": [
    {
     "data": {
      "text/plain": [
       "<matplotlib.axes._subplots.AxesSubplot at 0x1a1a1f1310>"
      ]
     },
     "execution_count": 227,
     "metadata": {},
     "output_type": "execute_result"
    },
    {
     "data": {
      "image/png": "[encoded data removed]",
      "text/plain": [
       "<Figure size 432x288 with 1 Axes>"
      ]
     },
     "metadata": {
      "needs_background": "light"
     },
     "output_type": "display_data"
    }
   ],
   "source": [
    "sns.lineplot(range(1, len(acc_list)+1), acc_list)"
   ]
  },
  {
   "cell_type": "markdown",
   "metadata": {},
   "source": [
    "## Same-Cluster Queries\n",
    "The thought process for undergoing these 100 queries were to look at two specific cases. One being cases where the vectors are close in terms of their euclidean distance; however, there are in two different clusters. The other case being where the vectors are far apart, but still in the same respective clusters. I split these two cases arbitrarily by having 60 queries to the farthest case ,20 for each cluster, and 40 queries for the closest. There is most likely a way to efficiently partition these two cases looking at the research of importance behind the two cases, but that could be further investigated later."
   ]
  },
  {
   "cell_type": "code",
   "execution_count": 530,
   "metadata": {},
   "outputs": [],
   "source": [
    "#100 queries on 300 vectors\n",
    "#60 queries // 20 queries on each cluster look at vectors that are furthest apart.\n",
    "\n",
    "#40 queries on cases where vectors in different clusters but close together"
   ]
  },
  {
   "cell_type": "code",
   "execution_count": 13,
   "metadata": {},
   "outputs": [
    {
     "data": {
      "text/plain": [
       "array([[-1.7147402 , -0.99192885,  0.32858903, ...,  0.90777446,\n",
       "        -0.73922929,  0.09643188],\n",
       "       [-2.81965521,  0.70839925,  1.09838966, ..., -0.02560401,\n",
       "        -0.08772242,  2.01182555],\n",
       "       [-0.32601936, -0.91270517, -0.47241817, ..., -0.1180904 ,\n",
       "         2.25369364,  0.59136837],\n",
       "       ...,\n",
       "       [-0.86261263,  0.50232146,  1.33460679, ..., -1.15007597,\n",
       "         1.44361056,  1.91818386],\n",
       "       [-0.44792134,  0.08770393, -0.28472143, ...,  0.10268076,\n",
       "         0.59027176,  1.25060436],\n",
       "       [-0.19092299, -1.11820478,  0.40582826, ..., -0.2778077 ,\n",
       "         1.84201964, -0.36627582]])"
      ]
     },
     "execution_count": 13,
     "metadata": {},
     "output_type": "execute_result"
    }
   ],
   "source": [
    "vectors"
   ]
  },
  {
   "cell_type": "code",
   "execution_count": 528,
   "metadata": {},
   "outputs": [
    {
     "data": {
      "text/plain": [
       "[array([ 1.32041234,  0.99954413,  0.97662371,  0.01490781,  1.34943359,\n",
       "        -0.1408132 ,  0.14665631,  1.3638809 ,  1.37490499,  0.8145774 ,\n",
       "         1.35418147,  0.60331565,  0.22218545,  0.75690507,  1.00107893,\n",
       "         0.99842278,  0.88484598,  0.41807651,  1.3946319 ,  0.52712747,\n",
       "         1.1323699 ,  0.30969935,  1.54019339,  0.92053295,  1.18170432,\n",
       "         0.67879347,  0.08156954,  0.66158876,  0.73611356,  0.22346802,\n",
       "         0.9129674 ,  1.80624164,  1.49157446,  0.79054897,  0.94256688,\n",
       "         1.29291619,  1.33723356,  0.45440471,  0.6559746 ,  1.26123521,\n",
       "         1.06238972,  0.75789017,  0.67886392,  0.84240054,  0.65616708,\n",
       "         1.85945495,  1.92122659,  0.6984343 ,  1.09707182,  1.15872128,\n",
       "         0.21063914,  0.54680622,  0.92660764,  0.82906701,  0.74526697,\n",
       "         1.21245845,  0.57912265,  0.50365609,  0.74639703,  0.54817721,\n",
       "         0.65982105,  1.2423715 ,  0.53896499,  1.15804817,  0.74446265,\n",
       "         0.71064135,  0.58988857,  0.70839266,  0.28514934,  0.54776262,\n",
       "         0.9602205 ,  0.77920001,  0.82619078,  1.11767784,  1.23382909,\n",
       "         1.09390639,  0.93913358,  0.87907372,  1.13125008,  1.11096145,\n",
       "         0.76024932,  1.11981563,  0.69628807,  0.82110217,  0.08348504,\n",
       "         0.96846544,  1.40147964,  0.40824366,  0.71849654,  1.08986206,\n",
       "         0.12571049,  1.55617037,  0.1784424 ,  1.31980553,  0.48871102,\n",
       "         0.99462695,  0.48051846,  0.83570017,  1.50272941,  1.47870367]),\n",
       " 1,\n",
       " 0]"
      ]
     },
     "execution_count": 528,
     "metadata": {},
     "output_type": "execute_result"
    }
   ],
   "source": [
    "#organizing ground truth data so it's easily accessible with a dictionary including the vector, label and index value\n",
    "ground_truth = dict()\n",
    "index = 0\n",
    "step = 0\n",
    "for j in range(3):\n",
    "    index = index + 1\n",
    "    for i in range(100):\n",
    "        ground_truth[step] = [vectors[i+j*100], index, step]\n",
    "        step = step + 1\n",
    "ground_truth[0]"
   ]
  },
  {
   "cell_type": "code",
   "execution_count": 373,
   "metadata": {},
   "outputs": [
    {
     "name": "stdout",
     "output_type": "stream",
     "text": [
      "[-0.97903326 -0.89037069 -0.95772358 -1.21156769 -1.2081699  -0.62996492\n",
      " -0.99882373 -0.82933193 -0.99345856 -0.78116271 -1.04904512 -0.80752274\n",
      " -1.01685714 -1.00177361 -1.19085181 -1.47151114 -1.01028294 -0.51218058\n",
      " -1.11104659 -0.59074444 -0.95635848 -1.18001182 -1.27678661 -0.83128284\n",
      " -1.09706098 -1.17974617 -1.1341477  -0.84039497 -1.16819036 -0.97330311\n",
      " -1.04373073 -0.57168722 -0.97202397 -1.16894691 -0.67675717 -0.95610824\n",
      " -0.99273729 -0.89267672 -0.73415566 -1.10392589 -1.06697508 -0.75887862\n",
      " -1.16352316 -0.54375436 -0.90344774 -0.89377924 -0.81007819 -0.95246448\n",
      " -0.90600122 -1.27296229 -0.79124165 -0.65570133 -1.00958691 -1.14904852\n",
      " -0.78786316 -0.72905975 -1.16546785 -1.00160447 -0.89942149 -0.56836043\n",
      " -1.17774384 -0.88740462 -1.14904455 -0.91345657 -1.14185567 -1.04431058\n",
      " -0.52199541 -0.85006191 -0.58848627 -0.82338711 -1.11575924 -1.09164137\n",
      " -0.88774654 -0.68280798 -1.01336193 -1.00714264 -0.88253173 -0.88061291\n",
      " -0.52302493 -0.86321029 -0.96424361 -0.6950213  -0.93810069 -1.01512979\n",
      " -0.82743716 -1.03830992 -0.76953703 -0.68252531 -1.19722609 -1.08242405\n",
      " -1.2458278  -1.25527311 -1.20484769 -1.30563293 -0.99621977 -0.97246806\n",
      " -0.82529118 -0.89997534 -0.83821952 -0.82162776]\n",
      "1\n",
      "1 2\n",
      "1 2\n",
      "1 2\n",
      "2 3\n",
      "2 3\n",
      "2 3\n",
      "1 2\n",
      "1 3\n",
      "2 3\n",
      "1 2\n",
      "1 2\n",
      "2 3\n",
      "2 3\n",
      "2 3\n",
      "2 3\n",
      "2 3\n",
      "2 2\n",
      "1 3\n",
      "2 3\n",
      "2 3\n",
      "[-1.34690803 -1.03794872 -0.8117548  -1.15769994 -1.34343767 -0.56458831\n",
      " -0.96213559 -1.01525196 -0.65385587 -1.05876875 -1.37842191 -1.14171063\n",
      " -1.01370422 -0.74587228 -1.09257078 -1.21250497 -0.58277985 -1.17991925\n",
      " -0.79871264 -1.56227694 -1.00084605 -1.3295944  -0.8484489  -1.12002157\n",
      " -1.58115412 -0.88398904 -0.94865912 -1.21984122 -1.07990014 -1.13525036\n",
      " -0.98044762 -0.74939995 -0.78992294 -1.20866289 -1.1509012  -0.83871531\n",
      " -0.70030543 -0.61555955 -0.87535464 -0.74586857 -1.23568444 -1.08312631\n",
      " -0.72087389 -0.83774126 -0.91471554 -0.98256692 -0.9013826  -0.97622562\n",
      " -1.03266989 -1.07636248 -1.30047179 -0.67463511 -0.70122124 -1.04267234\n",
      " -1.05815658 -1.07362967 -0.77747506 -0.66742327 -0.88333542 -0.89003841\n",
      " -0.76572299 -0.93242733 -0.75007166 -1.31621517 -1.25308359 -0.98652023\n",
      " -1.20221333 -0.86208921 -0.75315576 -1.1727199  -0.92356315 -1.13869709\n",
      " -1.07547964 -0.98603132 -0.94337808 -0.85507279 -0.74745092 -1.23029792\n",
      " -1.16879507 -1.10913144 -1.16296408 -1.08699148 -1.26482912 -0.89259137\n",
      " -1.36287432 -1.18853234 -0.58270551 -0.82963068 -1.00387631 -0.88237557\n",
      " -1.06209679 -0.95556194 -1.0112036  -1.21687116 -1.1565315  -1.11385897\n",
      " -1.05952872 -0.63142896 -0.76433683 -1.20449029]\n",
      "1\n",
      "1 3\n",
      "1 3\n",
      "1 3\n",
      "1 3\n",
      "1 3\n",
      "1 3\n",
      "1 3\n",
      "1 3\n",
      "1 3\n",
      "1 1\n",
      "3 3\n",
      "1 3\n",
      "1 3\n",
      "1 3\n",
      "1 3\n",
      "1 3\n",
      "1 3\n",
      "1 3\n",
      "3 3\n",
      "1 3\n",
      "[-0.73102277 -1.06040506 -0.92821663 -0.80298298 -0.79906078 -0.88653197\n",
      " -0.98368111 -0.93659117 -0.67703982 -1.03491308 -0.76504694 -1.14482372\n",
      " -1.49286311 -1.17176745 -1.33403359 -1.26061492 -0.906641   -1.11741173\n",
      " -0.92151477 -0.97758068 -0.80119488 -0.97997173 -1.05161824 -0.54236611\n",
      " -0.88891314 -0.96249046 -0.79873712 -1.31502984 -0.91881713 -0.95970391\n",
      " -1.10002891 -0.54718202 -1.10619374 -1.20971899 -0.67162678 -1.1496474\n",
      " -0.92622832 -0.77142424 -0.72775667 -1.14029724 -0.74475512 -0.88648286\n",
      " -1.14726783 -0.92527361 -0.96796631 -1.01102061 -0.84786543 -0.92407455\n",
      " -0.81294853 -1.00861869 -0.99324979 -0.97904427 -0.88339289 -0.7325978\n",
      " -0.94211312 -0.92502355 -0.70685913 -0.92943152 -0.99259031 -0.83965796\n",
      " -0.67061988 -0.7519876  -1.37022465 -0.97706239 -0.75482082 -0.92166445\n",
      " -0.78302278 -1.27507331 -1.47438331 -0.93911672 -0.82558225 -0.81889681\n",
      " -1.17323812 -1.02033459 -0.9733862  -1.08374592 -0.77105901 -1.31444393\n",
      " -0.55964392 -0.68921051 -0.84202902 -1.40100601 -0.99298025 -0.66729169\n",
      " -0.86431613 -1.22096509 -1.11251956 -0.74099868 -0.90550687 -1.0049521\n",
      " -1.33641566 -0.90911627 -1.24812015 -0.87061569 -0.80880399 -0.92606117\n",
      " -1.31056988 -1.3384628  -1.124655   -0.58584992]\n",
      "1\n",
      "1 3\n",
      "1 3\n",
      "3 3\n",
      "1 3\n",
      "1 3\n",
      "1 3\n",
      "1 3\n",
      "1 3\n",
      "1 3\n",
      "1 3\n",
      "1 3\n",
      "1 3\n",
      "1 3\n",
      "1 3\n",
      "1 3\n",
      "1 3\n",
      "3 3\n",
      "1 3\n",
      "3 3\n",
      "3 3\n"
     ]
    }
   ],
   "source": [
    "#For looping through each cluster for the farthest case.\n",
    "for cluster in range(3):\n",
    "    #initialize dimensions to compute matrix of euclidean distances.\n",
    "    m=len(clusters[cluster])\n",
    "    k=20\n",
    "    data1 = np.tile(np.array(clusters[cluster])[:, :, np.newaxis], (1, 1, m))\n",
    "    data2 = np.tile(np.array(clusters[cluster]).T[np.newaxis, :, :], (m, 1, 1))\n",
    "    \n",
    "    dist = np.sum(np.square(data1 - data2), axis=1)\n",
    "    dist[np.tril_indices(m)] = 0\n",
    "    # find smallest distance for each row\n",
    "    i = np.arange(m)\n",
    "    j = np.argmax(dist, axis=1)\n",
    "    dmax = dist[i, j]\n",
    "    idx = np.stack((i, j), axis=1)\n",
    "    # argsort reverse for the max values\n",
    "    isort = dmax.argsort()[::-1]\n",
    "\n",
    "    top_idx = idx[isort[:k], :]\n",
    "    top_dist = np.sqrt(dmin[isort[:k]])\n",
    "    top_idx\n",
    "    #checking through pairs and looking to see if they match with the ground data\n",
    "    for pair in top_idx:\n",
    "        for check in ground_truth.values():\n",
    "            if list(check[0]) == list(clusters[cluster][pair[0]]):\n",
    "                first_val = check[1]\n",
    "                first_idx = check[2]\n",
    "            elif list(check[0]) == list(clusters[cluster][pair[1]]):\n",
    "                second_val = check[1]\n",
    "                second_idx = check[2]\n",
    "        print(first_val, second_val)\n",
    "        if first_val == second_val:\n",
    "            continue\n",
    "        if first_idx < 100:\n",
    "            index = max(list(labels[:100]),key=list(labels[:100]).count)\n",
    "            if first_val == index:\n",
    "                labels[second_idx] = index\n",
    "            labels[first_idx] = index\n",
    "        elif first_idx < 300:\n",
    "            index = max(list(labels[200:300]),key=list(labels[200:300]).count)\n",
    "            if first_val == index:\n",
    "                labels[second_idx] = index\n",
    "            labels[first_idx] = index \n",
    "        else:\n",
    "            index = max(list(labels[100:200]),key=list(labels[100:200]).count)\n",
    "            if first_val == index:\n",
    "                labels[second_idx] = index\n",
    "            labels[first_idx] = index "
   ]
  },
  {
   "cell_type": "code",
   "execution_count": 381,
   "metadata": {},
   "outputs": [
    {
     "data": {
      "text/plain": [
       "array([1, 0, 0, 0, 0, 2, 2, 0, 0, 0, 0, 0, 2, 0, 0, 2, 0, 1, 0, 0, 0, 0,\n",
       "       2, 0, 2, 2, 0, 0, 0, 0, 1, 0, 0, 0, 0, 0, 0, 0, 0, 0, 0, 1, 0, 0,\n",
       "       2, 0, 0, 2, 0, 0, 2, 0, 0, 0, 2, 2, 0, 0, 0, 2, 0, 0, 0, 0, 2, 0,\n",
       "       1, 2, 0, 2, 0, 0, 0, 0, 1, 0, 0, 0, 0, 2, 0, 0, 0, 2, 0, 0, 0, 0,\n",
       "       0, 0, 0, 2, 0, 0, 0, 0, 2, 0, 2, 0, 0, 2, 0, 0, 0, 0, 0, 2, 0, 0,\n",
       "       2, 0, 2, 2, 0, 0, 0, 0, 0, 0, 0, 0, 2, 0, 0, 0, 1, 0, 0, 0, 0, 0,\n",
       "       0, 0, 2, 0, 0, 0, 0, 0, 0, 0, 0, 0, 0, 0, 2, 0, 0, 0, 0, 0, 2, 0,\n",
       "       0, 0, 0, 0, 0, 0, 0, 0, 0, 2, 0, 0, 2, 2, 0, 0, 0, 0, 0, 0, 0, 0,\n",
       "       0, 0, 0, 0, 0, 0, 0, 0, 2, 0, 0, 0, 0, 0, 0, 0, 0, 0, 0, 2, 0, 0,\n",
       "       2, 0, 2, 2, 2, 2, 2, 0, 2, 2, 2, 0, 1, 2, 0, 2, 2, 2, 2, 2, 0, 2,\n",
       "       1, 2, 2, 1, 0, 2, 1, 2, 2, 1, 2, 1, 2, 2, 1, 0, 0, 1, 0, 0, 2, 2,\n",
       "       1, 2, 2, 0, 2, 0, 0, 1, 2, 2, 2, 2, 2, 0, 2, 2, 2, 0, 0, 2, 1, 1,\n",
       "       2, 2, 2, 2, 0, 2, 2, 0, 2, 2, 0, 0, 2, 1, 2, 2, 0, 2, 0, 2, 0, 2,\n",
       "       2, 2, 0, 2, 2, 0, 2, 2, 1, 2, 1, 0, 1, 2])"
      ]
     },
     "execution_count": 381,
     "metadata": {},
     "output_type": "execute_result"
    }
   ],
   "source": [
    "labels"
   ]
  },
  {
   "cell_type": "code",
   "execution_count": null,
   "metadata": {},
   "outputs": [],
   "source": [
    "#Same process but with the closest distance for the entire vector set.\n",
    "m=len(clusters)\n",
    "k=40\n",
    "data1 = np.tile(np.array(clusters[cluster])[:, :, np.newaxis], (1, 1, m))\n",
    "data2 = np.tile(np.array(clusters[cluster]).T[np.newaxis, :, :], (m, 1, 1))\n",
    "\n",
    "dist = np.sum(np.square(data1 - data2), axis=1)\n",
    "\n",
    "dist[np.tril_indices(m)] = 0\n",
    "\n",
    "i = np.arange(m)\n",
    "j = np.argmin(dist, axis=1)\n",
    "dmin = dist[i, j]\n",
    "idx = np.stack((i, j), axis=1)\n",
    "isort = dmin.argsort()\n",
    "\n",
    "top_idx = idx[isort[:k], :]\n",
    "top_dist = np.sqrt(dmin[isort[:k]])\n",
    "top_idx\n",
    "\n",
    "for pair in top_idx:\n",
    "    for check in ground_truth.values():\n",
    "        if list(check[0]) == list(clusters[pair[0]]):\n",
    "            first_val = check[1]\n",
    "            first_idx = check[2]\n",
    "        elif list(check[0]) == list(clusters[pair[1]]):\n",
    "            second_val = check[1]\n",
    "            second_idx = check[2]\n",
    "    if first_val != second_val:\n",
    "        continue\n",
    "    if first_idx < 100:\n",
    "        index = max(list(labels[:100]),key=list(labels[:100]).count)\n",
    "        if first_val == index:\n",
    "            labels[second_idx] = index\n",
    "        labels[first_idx] = index\n",
    "    elif first_idx < 300:\n",
    "        index = max(list(labels[200:300]),key=list(labels[200:300]).count)\n",
    "        if first_val == index:\n",
    "            labels[second_idx] = index\n",
    "        labels[first_idx] = index \n",
    "    else:\n",
    "        index = max(list(labels[100:200]),key=list(labels[100:200]).count)\n",
    "        if first_val == index:\n",
    "            labels[second_idx] = index\n",
    "        labels[first_idx] = index "
   ]
  },
  {
   "cell_type": "markdown",
   "metadata": {},
   "source": [
    "## Application\n",
    "The data used to apply these semi-supervised algorithm is from UCI Machine Repository. This data looked at three varieties of wheat that holds 7 different attributes to each wheat. This dataset was chosen due to it having the same k-value of 3 and having a small number of data, making it easier to handle. The attributes include characteristics of the kernel, area and compactness."
   ]
  },
  {
   "cell_type": "code",
   "execution_count": 444,
   "metadata": {},
   "outputs": [],
   "source": [
    "data = np.loadtxt('seeds_dataset.txt', delimiter='\\t ', dtype=str)"
   ]
  },
  {
   "cell_type": "code",
   "execution_count": 532,
   "metadata": {},
   "outputs": [
    {
     "data": {
      "text/plain": [
       "[[15.26, 14.84, 0.871, 5.763, 3.312, 2.221, 5.22, 1.0],\n",
       " [14.88, 14.57, 0.8811, 5.554, 3.333, 1.018, 4.956, 1.0],\n",
       " [14.29, 14.09, 0.905, 5.291, 3.337, 2.699, 4.825, 1.0]]"
      ]
     },
     "execution_count": 532,
     "metadata": {},
     "output_type": "execute_result"
    }
   ],
   "source": [
    "f = open('seeds_dataset.txt', 'r')\n",
    "\n",
    "rows = []\n",
    "for line in f:\n",
    "    row = line.split()\n",
    "    row = [float(x) for x in row]\n",
    "    rows.append(row)\n",
    "\n",
    "rows[:3]"
   ]
  },
  {
   "cell_type": "code",
   "execution_count": 533,
   "metadata": {},
   "outputs": [],
   "source": [
    "kmeans = KMeans(n_clusters=3, random_state=0, max_iter = 1, n_init = 1).fit(rows)"
   ]
  },
  {
   "cell_type": "code",
   "execution_count": 520,
   "metadata": {},
   "outputs": [
    {
     "data": {
      "text/plain": [
       "array([2, 2, 2, 2, 2, 2, 2, 2, 1, 1, 2, 2, 2, 2, 2, 2, 2, 2, 2, 2, 2, 2,\n",
       "       2, 2, 2, 2, 2, 2, 2, 2, 2, 2, 2, 2, 2, 2, 1, 1, 2, 0, 2, 2, 2, 2,\n",
       "       2, 2, 2, 2, 2, 2, 2, 1, 2, 2, 2, 2, 2, 2, 2, 2, 2, 2, 2, 2, 2, 2,\n",
       "       2, 2, 2, 2, 1, 1, 1, 1, 1, 1, 1, 1, 1, 1, 1, 1, 1, 1, 1, 1, 1, 1,\n",
       "       1, 1, 1, 1, 1, 1, 1, 1, 1, 1, 1, 1, 1, 1, 1, 1, 1, 1, 1, 1, 1, 1,\n",
       "       1, 1, 1, 1, 1, 1, 1, 1, 1, 1, 1, 1, 1, 1, 2, 1, 1, 1, 1, 1, 1, 1,\n",
       "       2, 1, 1, 2, 1, 2, 2, 1, 0, 0, 0, 0, 0, 0, 0, 0, 0, 0, 0, 0, 0, 0,\n",
       "       0, 0, 0, 0, 0, 0, 0, 0, 0, 0, 0, 2, 0, 0, 0, 0, 0, 0, 0, 0, 0, 0,\n",
       "       0, 0, 0, 2, 0, 0, 0, 0, 0, 0, 0, 0, 0, 0, 0, 0, 0, 0, 0, 0, 0, 0,\n",
       "       0, 2, 0, 2, 0, 0, 0, 0, 0, 0, 0, 0], dtype=int32)"
      ]
     },
     "execution_count": 520,
     "metadata": {},
     "output_type": "execute_result"
    }
   ],
   "source": [
    "kmeans.labels_"
   ]
  },
  {
   "cell_type": "code",
   "execution_count": 521,
   "metadata": {},
   "outputs": [],
   "source": [
    "accuracy = 0\n",
    "used_index = []\n",
    "acc_list = []\n",
    "steps = [0,70,140]\n",
    "for step in steps:\n",
    "    ctr = Counter(kmeans.labels_[step:step+70])\n",
    "    index, its_frequency = index, its_frequency = ctr.most_common(3)[0]\n",
    "    if index in used_index:\n",
    "        index, its_frequency = ctr.most_common(3)[1]\n",
    "        if index in used_index:\n",
    "            index, its_frequency = ctr.most_common(3)[2]\n",
    "    used_index.append(index)\n",
    "    count = list(labels[step:step+100]).count(index)\n",
    "    accuracy = accuracy+its_frequency\n",
    "acc_list.append(accuracy/210)"
   ]
  },
  {
   "cell_type": "code",
   "execution_count": 522,
   "metadata": {},
   "outputs": [
    {
     "data": {
      "text/plain": [
       "[0.9285714285714286]"
      ]
     },
     "execution_count": 522,
     "metadata": {},
     "output_type": "execute_result"
    }
   ],
   "source": [
    "acc_list"
   ]
  },
  {
   "cell_type": "code",
   "execution_count": 523,
   "metadata": {},
   "outputs": [],
   "source": [
    "ground_truth = dict()\n",
    "index = 0\n",
    "step = 0\n",
    "for j in range(3):\n",
    "    index = index + 1\n",
    "    for i in range(70):\n",
    "        ground_truth[step] = [rows[i+j*70], index, step]\n",
    "        step = step + 1"
   ]
  },
  {
   "cell_type": "code",
   "execution_count": null,
   "metadata": {},
   "outputs": [],
   "source": [
    "for i in range(3):\n",
    "    \n",
    "    m=len(np.array(rows)[kmeans.labels_ == i])\n",
    "    #5 queries were made for each cluster due to the dataset being smaller.\n",
    "    k=5\n",
    "    data1 = np.tile(np.array(rows)[kmeans.labels_ == i][:, :, np.newaxis], (1, 1, m))\n",
    "    data2 = np.tile(np.array(rows)[kmeans.labels_ == i].T[np.newaxis, :, :], (m, 1, 1))\n",
    "    dist = np.sum(np.square(data1 - data2), axis=1)\n",
    "    dist[np.tril_indices(m)] = 0\n",
    "    i = np.arange(m)\n",
    "    j = np.argmax(dist, axis=1)\n",
    "    dmax = dist[i, j]\n",
    "    idx = np.stack((i, j), axis=1)\n",
    "    isort = dmin.argsort()[::-1]\n",
    "\n",
    "    top_idx = idx[isort[:k], :]\n",
    "    top_dist = np.sqrt(dmin[isort[:k]])\n",
    "    top_idx\n",
    "    print(top_idx)\n",
    "    new_labels = kmeans.labels_\n",
    "    for pair in top_idx:\n",
    "        for check in ground_truth.values():\n",
    "            if list(check[0]) == list(np.array(rows)[pair[0]]):\n",
    "                first_val = check[1]\n",
    "                first_idx = check[2]\n",
    "            elif list(check[0]) == list(np.array(rows)[pair[1]]):\n",
    "                second_val = check[1]\n",
    "                second_idx = check[2]\n",
    "        print(first_val, second_val)\n",
    "        if first_val == second_val:\n",
    "            continue\n",
    "        if first_idx < 70:\n",
    "            index = max(list(new_labels[:70]),key=list(new_labels[:70]).count)\n",
    "            if first_val == index:\n",
    "                new_labels[second_idx] = index\n",
    "            new_labels[first_idx] = index\n",
    "        elif first_idx < 210:\n",
    "            index = max(list(new_labels[140:210]),key=list(new_labels[140:210]).count)\n",
    "            if first_val == index:\n",
    "                new_labels[second_idx] = index\n",
    "            new_labels[first_idx] = index \n",
    "        else:\n",
    "            index = max(list(new_labels[70:140]),key=list(new_labels[70:140]).count)\n",
    "            if first_val == index:\n",
    "                new_labels[second_idx] = index\n",
    "            new_labels[first_idx] = index "
   ]
  },
  {
   "cell_type": "code",
   "execution_count": null,
   "metadata": {},
   "outputs": [],
   "source": [
    "for i in range(3):\n",
    "    \n",
    "    m=len(np.array(rows)[kmeans.labels_ == i])\n",
    "    #5 queries were made for each cluster due to the dataset being smaller.\n",
    "    k=5\n",
    "    data1 = np.tile(np.array(rows)[kmeans.labels_ == i][:, :, np.newaxis], (1, 1, m))\n",
    "    data2 = np.tile(np.array(rows)[kmeans.labels_ == i].T[np.newaxis, :, :], (m, 1, 1))\n",
    "    dist = np.sum(np.square(data1 - data2), axis=1)\n",
    "    dist[np.tril_indices(m)] = 0\n",
    "    i = np.arange(m)\n",
    "    j = np.argmax(dist, axis=1)\n",
    "    dmax = dist[i, j]\n",
    "    idx = np.stack((i, j), axis=1)\n",
    "    isort = dmin.argsort()[::-1]\n",
    "\n",
    "    top_idx = idx[isort[:k], :]\n",
    "    top_dist = np.sqrt(dmin[isort[:k]])\n",
    "    top_idx\n",
    "    print(top_idx)\n",
    "    new_labels = kmeans.labels_\n",
    "    for pair in top_idx:\n",
    "        for check in ground_truth.values():\n",
    "            if list(check[0]) == list(np.array(rows)[pair[0]]):\n",
    "                first_val = check[1]\n",
    "                first_idx = check[2]\n",
    "            elif list(check[0]) == list(np.array(rows)[pair[1]]):\n",
    "                second_val = check[1]\n",
    "                second_idx = check[2]\n",
    "        print(first_val, second_val)\n",
    "        if first_val == second_val:\n",
    "            continue\n",
    "        if first_idx < 70:\n",
    "            index = max(list(new_labels[:70]),key=list(new_labels[:70]).count)\n",
    "            if first_val == index:\n",
    "                new_labels[second_idx] = index\n",
    "            new_labels[first_idx] = index\n",
    "        elif first_idx < 210:\n",
    "            index = max(list(new_labels[140:210]),key=list(new_labels[140:210]).count)\n",
    "            if first_val == index:\n",
    "                new_labels[second_idx] = index\n",
    "            new_labels[first_idx] = index \n",
    "        else:\n",
    "            index = max(list(new_labels[70:140]),key=list(new_labels[70:140]).count)\n",
    "            if first_val == index:\n",
    "                new_labels[second_idx] = index\n",
    "            new_labels[first_idx] = index "
   ]
  },
  {
   "cell_type": "code",
   "execution_count": 485,
   "metadata": {},
   "outputs": [
    {
     "data": {
      "text/plain": [
       "array([2, 2, 2, 2, 2, 2, 2, 2, 1, 1, 2, 2, 2, 2, 2, 2, 2, 2, 2, 2, 2, 2,\n",
       "       2, 2, 2, 2, 2, 2, 2, 2, 2, 2, 2, 2, 2, 2, 1, 1, 2, 0, 2, 2, 2, 2,\n",
       "       2, 2, 2, 2, 2, 2, 2, 1, 2, 2, 2, 2, 2, 2, 2, 2, 2, 2, 2, 2, 2, 2,\n",
       "       2, 2, 2, 2, 1, 1, 1, 1, 1, 1, 1, 1, 1, 1, 1, 1, 1, 1, 1, 1, 1, 1,\n",
       "       1, 1, 1, 1, 1, 1, 1, 1, 1, 1, 1, 1, 1, 1, 1, 1, 1, 1, 1, 1, 1, 1,\n",
       "       1, 1, 1, 1, 1, 1, 1, 1, 1, 1, 1, 1, 1, 1, 2, 1, 1, 1, 1, 1, 1, 1,\n",
       "       2, 1, 1, 2, 1, 2, 2, 1, 0, 0, 0, 0, 0, 0, 0, 0, 0, 0, 0, 0, 0, 0,\n",
       "       0, 0, 0, 0, 0, 0, 0, 0, 0, 0, 0, 2, 0, 0, 0, 0, 0, 0, 0, 0, 0, 0,\n",
       "       0, 0, 0, 2, 0, 0, 0, 0, 0, 0, 0, 0, 0, 0, 0, 0, 0, 0, 0, 0, 0, 0,\n",
       "       0, 2, 0, 2, 0, 0, 0, 0, 0, 0, 0, 0], dtype=int32)"
      ]
     },
     "execution_count": 485,
     "metadata": {},
     "output_type": "execute_result"
    }
   ],
   "source": [
    "new_labels"
   ]
  },
  {
   "cell_type": "code",
   "execution_count": 534,
   "metadata": {},
   "outputs": [
    {
     "ename": "TypeError",
     "evalue": "'numpy.int32' object is not iterable",
     "output_type": "error",
     "traceback": [
      "\u001b[0;31m---------------------------------------------------------------------------\u001b[0m",
      "\u001b[0;31mTypeError\u001b[0m                                 Traceback (most recent call last)",
      "\u001b[0;32m<ipython-input-534-bc6f90906a01>\u001b[0m in \u001b[0;36m<module>\u001b[0;34m\u001b[0m\n\u001b[1;32m     17\u001b[0m \u001b[0;32mfor\u001b[0m \u001b[0mpair\u001b[0m \u001b[0;32min\u001b[0m \u001b[0mtop_idx\u001b[0m\u001b[0;34m:\u001b[0m\u001b[0;34m\u001b[0m\u001b[0;34m\u001b[0m\u001b[0m\n\u001b[1;32m     18\u001b[0m     \u001b[0;32mfor\u001b[0m \u001b[0mcheck\u001b[0m \u001b[0;32min\u001b[0m \u001b[0mground_truth\u001b[0m\u001b[0;34m.\u001b[0m\u001b[0mvalues\u001b[0m\u001b[0;34m(\u001b[0m\u001b[0;34m)\u001b[0m\u001b[0;34m:\u001b[0m\u001b[0;34m\u001b[0m\u001b[0;34m\u001b[0m\u001b[0m\n\u001b[0;32m---> 19\u001b[0;31m         \u001b[0;32mif\u001b[0m \u001b[0mlist\u001b[0m\u001b[0;34m(\u001b[0m\u001b[0mcheck\u001b[0m\u001b[0;34m[\u001b[0m\u001b[0;36m0\u001b[0m\u001b[0;34m]\u001b[0m\u001b[0;34m)\u001b[0m \u001b[0;34m==\u001b[0m \u001b[0mlist\u001b[0m\u001b[0;34m(\u001b[0m\u001b[0mnp\u001b[0m\u001b[0;34m.\u001b[0m\u001b[0marray\u001b[0m\u001b[0;34m(\u001b[0m\u001b[0mrows\u001b[0m\u001b[0;34m)\u001b[0m\u001b[0;34m[\u001b[0m\u001b[0mpair\u001b[0m\u001b[0;34m[\u001b[0m\u001b[0;36m0\u001b[0m\u001b[0;34m]\u001b[0m\u001b[0;34m]\u001b[0m\u001b[0;34m)\u001b[0m\u001b[0;34m:\u001b[0m\u001b[0;34m\u001b[0m\u001b[0;34m\u001b[0m\u001b[0m\n\u001b[0m\u001b[1;32m     20\u001b[0m             \u001b[0mfirst_val\u001b[0m \u001b[0;34m=\u001b[0m \u001b[0mcheck\u001b[0m\u001b[0;34m[\u001b[0m\u001b[0;36m1\u001b[0m\u001b[0;34m]\u001b[0m\u001b[0;34m\u001b[0m\u001b[0;34m\u001b[0m\u001b[0m\n\u001b[1;32m     21\u001b[0m             \u001b[0mfirst_idx\u001b[0m \u001b[0;34m=\u001b[0m \u001b[0mcheck\u001b[0m\u001b[0;34m[\u001b[0m\u001b[0;36m2\u001b[0m\u001b[0;34m]\u001b[0m\u001b[0;34m\u001b[0m\u001b[0;34m\u001b[0m\u001b[0m\n",
      "\u001b[0;31mTypeError\u001b[0m: 'numpy.int32' object is not iterable"
     ]
    }
   ],
   "source": [
    "m=len(np.array(rows))\n",
    "k=20\n",
    "data1 = np.tile(np.array(rows)[:, :, np.newaxis], (1, 1, m))\n",
    "data2 = np.tile(np.array(rows).T[np.newaxis, :, :], (m, 1, 1))\n",
    "dist = np.sum(np.square(data1 - data2), axis=1)\n",
    "dist[np.tril_indices(m)] = 0\n",
    "i = np.arange(m)\n",
    "j = np.argmin(dist, axis=1)\n",
    "dmin = dist[i, j]\n",
    "idx = np.stack((i, j), axis=1)\n",
    "isort = dmin.argsort()\n",
    "\n",
    "top_idx = idx[isort[:k], :]\n",
    "top_dist = np.sqrt(dmin[isort[:k]])\n",
    "top_idx\n",
    "\n",
    "for pair in top_idx:\n",
    "    for check in ground_truth.values():\n",
    "        if list(check[0]) == list(np.array(rows)[pair[0]]):\n",
    "            first_val = check[1]\n",
    "            first_idx = check[2]\n",
    "        elif list(check[0]) == list(np.array(rows)[pair[1]]):\n",
    "            second_val = check[1]\n",
    "            second_idx = check[2]\n",
    "    if first_val != second_val:\n",
    "        print('pass')\n",
    "        continue\n",
    "    print('check')\n",
    "    if first_idx < 70:\n",
    "        index = max(list(new_labels[:70]),key=list(new_labels[:70]).count)\n",
    "        if first_val == index:\n",
    "            new_labels[second_idx] = index\n",
    "        new_labels[first_idx] = index\n",
    "    elif first_idx < 210:\n",
    "        index = max(list(new_labels[140:210]),key=list(new_labels[140:210]).count)\n",
    "        if first_val == index:\n",
    "            new_labels[second_idx] = index\n",
    "        new_labels[first_idx] = index \n",
    "    else:\n",
    "        index = max(list(new_labels[70:140]),key=list(new_labels[70:140]).count)\n",
    "        if first_val == index:\n",
    "            new_labels[second_idx] = index\n",
    "        new_labels[first_idx] = index "
   ]
  },
  {
   "cell_type": "code",
   "execution_count": 494,
   "metadata": {},
   "outputs": [
    {
     "data": {
      "text/plain": [
       "array([2, 2, 2, 2, 2, 2, 2, 2, 1, 1, 2, 2, 2, 2, 2, 2, 2, 2, 2, 2, 2, 2,\n",
       "       2, 2, 2, 2, 2, 2, 2, 2, 2, 2, 2, 2, 2, 2, 1, 1, 2, 0, 2, 2, 2, 2,\n",
       "       2, 2, 2, 2, 2, 2, 2, 1, 2, 2, 2, 2, 2, 2, 2, 2, 2, 2, 2, 2, 2, 2,\n",
       "       2, 2, 2, 2, 1, 1, 1, 1, 1, 1, 1, 1, 1, 1, 1, 1, 1, 1, 1, 1, 1, 1,\n",
       "       1, 1, 1, 1, 1, 1, 1, 1, 1, 1, 1, 1, 1, 1, 1, 1, 1, 1, 1, 1, 1, 1,\n",
       "       1, 1, 1, 1, 1, 1, 1, 1, 1, 1, 1, 1, 1, 1, 2, 1, 1, 1, 1, 1, 1, 1,\n",
       "       2, 1, 1, 2, 1, 2, 2, 1, 0, 0, 0, 0, 0, 0, 0, 0, 0, 0, 0, 0, 0, 0,\n",
       "       0, 0, 0, 0, 0, 0, 0, 0, 0, 0, 0, 2, 0, 0, 0, 0, 0, 0, 0, 0, 0, 0,\n",
       "       0, 0, 0, 2, 0, 0, 0, 0, 0, 0, 0, 0, 0, 0, 0, 0, 0, 0, 0, 0, 0, 0,\n",
       "       0, 2, 0, 2, 0, 0, 0, 0, 0, 0, 0, 0], dtype=int32)"
      ]
     },
     "execution_count": 494,
     "metadata": {},
     "output_type": "execute_result"
    }
   ],
   "source": [
    "new_labels"
   ]
  },
  {
   "cell_type": "code",
   "execution_count": 526,
   "metadata": {},
   "outputs": [
    {
     "data": {
      "text/plain": [
       "[0.9285714285714286]"
      ]
     },
     "execution_count": 526,
     "metadata": {},
     "output_type": "execute_result"
    }
   ],
   "source": [
    "accuracy = 0\n",
    "used_index = []\n",
    "acc_list = []\n",
    "steps = [0,70,140]\n",
    "for step in steps:\n",
    "    ctr = Counter(new_labels[step:step+70])\n",
    "    index, its_frequency = index, its_frequency = ctr.most_common(3)[0]\n",
    "    if index in used_index:\n",
    "        index, its_frequency = ctr.most_common(3)[1]\n",
    "        if index in used_index:\n",
    "            index, its_frequency = ctr.most_common(3)[2]\n",
    "    used_index.append(index)\n",
    "    count = list(new_labels[step:step+70]).count(index)\n",
    "    accuracy = accuracy+its_frequency\n",
    "acc_list.append(accuracy/210)\n",
    "\n",
    "acc_list"
   ]
  },
  {
   "cell_type": "markdown",
   "metadata": {},
   "source": [
    "There was one change made in both the farthest case and nearest case. This could be why the accuracy did not change. There are many reasons that could account for this. The most critical reason could be due to the size of the dataset, there's not enough variance cases to look at. Moreover, the assumption was made that this dataset was evenly split up into the clusters, which is improbable. For this semi-supervised algorithm to work it is necessary to have labels on these points and ground truth values in order to harness the efficiency of this algorithm.\n",
    "\n",
    "Another important observation is the process of the aftermath of these queries. The intution was to assume if they were supposed to be equal then one would be in the incorrect cluster and would check through that. However, with the number of clusters being more than 2, it is important to note that both vectors, although improbable, could be both in incorrect clusters."
   ]
  },
  {
   "cell_type": "markdown",
   "metadata": {},
   "source": [
    "## Literature\n",
    "Nir Alon did research on this topic and performed the number of queries based on number of clusters, which was interesting to observe. This suggests that the size of the dataset is independent to these queries. Their query algorithm was based on a D^2 sampling algorithm. Their methods tended more towards looking at probability boundaries, which seems appropriate when we look at a uniform dataset like our synthetic data."
   ]
  },
  {
   "cell_type": "markdown",
   "metadata": {},
   "source": [
    "## Citations\n",
    "- UCI Machine Learning Repository: Seeds Data Set, archive.ics.uci.edu/ml/datasets/seeds. \n",
    "- Ailon, Nils, et al. Approximate Clustering with Same-Cluster Queries. \n",
    "- datasciencelab, Written by, and Written by. “Clustering With K-Means in Python.” The Data Science Lab, 22 Apr. 2014, datasciencelab.wordpress.com/2013/12/12/clustering-with-k-means-in-python/. "
   ]
  },
  {
   "cell_type": "code",
   "execution_count": null,
   "metadata": {},
   "outputs": [],
   "source": []
  }
 ],
 "metadata": {
  "kernelspec": {
   "display_name": "Python 3",
   "language": "python",
   "name": "python3"
  },
  "language_info": {
   "codemirror_mode": {
    "name": "ipython",
    "version": 3
   },
   "file_extension": ".py",
   "mimetype": "text/x-python",
   "name": "python",
   "nbconvert_exporter": "python",
   "pygments_lexer": "ipython3",
   "version": "3.8.5"
  }
 },
 "nbformat": 4,
 "nbformat_minor": 4
}
